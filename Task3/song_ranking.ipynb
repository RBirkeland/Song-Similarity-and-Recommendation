{
 "cells": [
  {
   "cell_type": "markdown",
   "metadata": {},
   "source": [
    "# Implementation of the Topic-Specific PageRank algorithm "
   ]
  },
  {
   "cell_type": "code",
   "execution_count": 12,
   "metadata": {
    "collapsed": false
   },
   "outputs": [],
   "source": [
    "import os\n",
    "import json\n",
    "import time\n",
    "import pandas as pd\n",
    "import numpy as np\n",
    "import scipy\n",
    "from scipy.sparse import coo_matrix\n",
    "from scipy.sparse import csr_matrix\n",
    "from numpy import linalg"
   ]
  },
  {
   "cell_type": "code",
   "execution_count": 13,
   "metadata": {
    "collapsed": true
   },
   "outputs": [],
   "source": [
    "#Function used for import of data in json format\n",
    "def data_iterator(path):\n",
    "    \n",
    "    print(\"Importing data. Please wait.\\n\")\n",
    "    \n",
    "    for root, dirs, files in os.walk(path):\n",
    "        for f in files:\n",
    "            if f.endswith('.json'):\n",
    "                fp = os.path.join(root,f)\n",
    "                with open(fp) as o:\n",
    "                    data = json.load(o)\n",
    "                yield {\"similars\" : data[\"similars\"], \"track_id\": data[\"track_id\"], \"tags\": data[\"tags\"]}\n"
   ]
  },
  {
   "cell_type": "code",
   "execution_count": 14,
   "metadata": {
    "collapsed": false
   },
   "outputs": [],
   "source": [
    "#function will return adjacency matrix A of csr format\n",
    "#element Aij of matrix A is 1/sum_in_row if the edge between nodes i and j exists or 0 otherwise\n",
    "def create_adjacency_matrix(t = 0):\n",
    "    \n",
    "    row,col,data=[],[],[]\n",
    "    pairs = set() #set of pairs of nodes (row, column) for which the edge between them exists\n",
    "    \n",
    "    per_row = dict()\n",
    "\n",
    "    \n",
    "    for i in range(len(df)):\n",
    "        #row will be index of the song S\n",
    "        if track_id[i] not in nodes:\n",
    "            all_songs.append(track_id[i])\n",
    "            nodes[track_id[i]] = len(nodes)\n",
    "        \n",
    "        r = nodes[track_id[i]]\n",
    "\n",
    "        #now indices of similar songs are needed\n",
    "        for j in range(len(similars[i])):\n",
    "            similar_song = similars[i][j][0] #similar song\n",
    "            weight = similars[i][j][1] #weight\n",
    "            \n",
    "            #column will be index of the song which is similar to S\n",
    "            if similar_song not in nodes:\n",
    "                nodes[similar_song] = len(nodes)\n",
    "                all_songs.append(similar_song)\n",
    "            c = nodes[similar_song]\n",
    "\n",
    "            #add the edge if the weight is larger than the threshold\n",
    "            if (weight > t):\n",
    "                row.append(r)\n",
    "                \n",
    "                if r not in per_row:\n",
    "                    per_row[r] = 1\n",
    "                else:\n",
    "                    per_row[r] += 1\n",
    "                \n",
    "                col.append(c)\n",
    "    \n",
    "    for r in row:\n",
    "        num = per_row[r]\n",
    "        data.append((1.0/num)) \n",
    "\n",
    "                        \n",
    "    # calculate the graph adjacency matrix as a coo_matrix\n",
    "    N = len(nodes)\n",
    "    A = scipy.sparse.coo_matrix((data,(row,col)),shape=(N,N))\n",
    "    \n",
    "    #convert to csr_matrix\n",
    "    A = scipy.sparse.csr_matrix(A)\n",
    "    \n",
    "    return A\n",
    "                \n",
    "                      "
   ]
  },
  {
   "cell_type": "code",
   "execution_count": 15,
   "metadata": {
    "collapsed": true
   },
   "outputs": [],
   "source": [
    "#function returns an array of songs that have all tags that user wants\n",
    "def get_relevants(user_tags, tag_matrix):\n",
    "    \n",
    "    S = []\n",
    "    flag = 0\n",
    "    \n",
    "    for t in user_tags:\n",
    "        if t not in tags_unique:\n",
    "            continue\n",
    "        tag_idx = tags_unique[t] #return index of tag\n",
    "        s2 = tag_matrix.getcol(tag_idx).nonzero()[0] #all songs related to the tag\n",
    "        \n",
    "        if flag == 0: #in the first iteration S is empty, intersection is empty set\n",
    "            flag += 1\n",
    "            S = s2\n",
    "            continue\n",
    "            \n",
    "        S = list(set(S) & set(s2)) #songs that have all user's tags\n",
    "    \n",
    "    return S"
   ]
  },
  {
   "cell_type": "code",
   "execution_count": 16,
   "metadata": {
    "collapsed": false
   },
   "outputs": [],
   "source": [
    "#function will return the matrix that has nonzero elements if song is related to tag\n",
    "#first coordinate of matrix represents songs and the second coordinate represents tags\n",
    "def create_tag_matrix(g = 50):\n",
    "\n",
    "    row,col,data=[],[],[]\n",
    "    \n",
    "\n",
    "    #for i in range(len(df)):\n",
    "    for i in range(len(track_id)):\n",
    "        \n",
    "        r = nodes[track_id[i]] #row will be index of the song S\n",
    "\n",
    "        #now indices of tags are needed\n",
    "        for j in range(len(tags[i])):\n",
    "            tag = tags[i][j][0] \n",
    "\n",
    "            count = int(tags[i][j][1]) #count\n",
    "\n",
    "            if tag not in tags_unique:\n",
    "                tags_unique[tag] = len(tags_unique)\n",
    "\n",
    "            c = tags_unique[tag] #column will be index of the tag \n",
    "\n",
    "            #add the edge if the count is larger than parameter g\n",
    "            if (count > g):\n",
    "                row.append(r)\n",
    "                col.append(c)\n",
    "                data.append(1)  \n",
    "                similars = A.getrow(r).nonzero();\n",
    "                for x in (similars[1]):\n",
    "                    row.append(x)\n",
    "                    col.append(c)\n",
    "                    data.append(1)  \n",
    "\n",
    "    N = len(nodes)\n",
    "    M = len(tags_unique)\n",
    "    tag_matrix = scipy.sparse.coo_matrix((data,(row,col)),shape=(N,M))\n",
    "    tag_matrix = scipy.sparse.csc_matrix(tag_matrix)\n",
    "    \n",
    "    return tag_matrix"
   ]
  },
  {
   "cell_type": "code",
   "execution_count": 17,
   "metadata": {
    "collapsed": true
   },
   "outputs": [],
   "source": [
    "#The most important function \n",
    "#Implementation od the Topic-Specific PageRank algorithm\n",
    "def get_rank_vector(N, S, beta = 0.2):\n",
    "    \n",
    "    if N == 0:\n",
    "        print(\"Error: No relevant songs\")\n",
    "        return []\n",
    "    \n",
    "    if len(S) == 0:\n",
    "        print(\"Error: No relevant tags\")\n",
    "        return []\n",
    "    \n",
    "    r = np.full((N,1), 1/N) #initialization\n",
    "    \n",
    "    es = np.zeros(N)\n",
    "    es[S] = 1\n",
    "    const = (1 - beta) * (1.0 / len(S)) * es\n",
    "    const = const.transpose()\n",
    "\n",
    "    for iteration in range(30):\n",
    "        r_old = r\n",
    "        r = beta * A * r_old \n",
    "\n",
    "        for k in range(len(r)):\n",
    "            r[k] += const[k]\n",
    "\n",
    "        if linalg.norm((r_old - r), 1) < 0.001: #check if it converged\n",
    "            print(\"converged in step number \",iteration)\n",
    "            break;\n",
    "    \n",
    "    return r"
   ]
  },
  {
   "cell_type": "code",
   "execution_count": 18,
   "metadata": {
    "collapsed": true
   },
   "outputs": [],
   "source": [
    "#Function returns to N songs\n",
    "def get_top_n(r, n):\n",
    "    topN = []\n",
    "    tmp = r.transpose()[0]\n",
    "    indices = tmp.argsort()[-n:] #get last 5\n",
    "    \n",
    "    for i in range(n):\n",
    "        topN.insert(0,all_songs[indices[i]])\n",
    "        \n",
    "    return topN"
   ]
  },
  {
   "cell_type": "code",
   "execution_count": 19,
   "metadata": {
    "collapsed": true
   },
   "outputs": [],
   "source": [
    "#User input function\n",
    "def get_tags():\n",
    "    \n",
    "    num = int(input(\"How many tags do you want? \"))\n",
    "    print(\"Insert tags that you want (if tag does not exist it will be ignored)\")\n",
    "    \n",
    "    tags = []\n",
    "    for i in range(num):\n",
    "        print(i+1, \"tag: \")\n",
    "        tags.append(input(\"\"))\n",
    "        \n",
    "    print (\"\\nChosen tags: \", tags, \"\\n\\n\")\n",
    "    return tags     "
   ]
  },
  {
   "cell_type": "code",
   "execution_count": 20,
   "metadata": {
    "collapsed": false
   },
   "outputs": [],
   "source": [
    "#User input function\n",
    "def get_parameters():\n",
    "    answer = input(\"\\nDo you want to use default parameters? y/n \")\n",
    "    \n",
    "    if answer == \"y\":\n",
    "        t = 0\n",
    "        g = 50\n",
    "        beta = 0.2\n",
    "        n = 5\n",
    "    else:\n",
    "        t = int(input(\"Edge threshold: \"))\n",
    "        g = int(input(\"Tag threshold: \"))\n",
    "        beta = float(input(\"Teleport probability: \"))\n",
    "        n = int(input(\"Number of best songs: \"))\n",
    "        \n",
    "    return t, g, beta, n"
   ]
  },
  {
   "cell_type": "code",
   "execution_count": 21,
   "metadata": {
    "collapsed": false
   },
   "outputs": [
    {
     "name": "stdout",
     "output_type": "stream",
     "text": [
      "Insert path to dataset: C:\\Users\\Maki\\Desktop\\MMDS\\lastfm_subset\\lastfm_subset\n",
      "Importing data. Please wait.\n",
      "\n",
      "\n",
      "Do you want to use default parameters? y/n y\n",
      "Chosen parameters: t = 0   g = 50   beta = 0.2   n = 5 \n",
      "\n",
      "How many tags do you want? 2\n",
      "Insert tags that you want (if tag does not exist it will be ignored)\n",
      "1 tag: \n",
      "rock\n",
      "2 tag: \n",
      "pop\n",
      "\n",
      "Chosen tags:  ['rock', 'pop'] \n",
      "\n",
      "\n",
      "\n",
      "--------------------------------------------------------\n",
      "Topic-Specific PageRang algorithm launched. Please wait.\n",
      "\n",
      "converged in step number  2\n",
      "\n",
      "Top 5 songs: \n",
      "1 TRAMCJI128F93335AF\n",
      "2 TRALDUE128F9312AF2\n",
      "3 TRBAMHJ128F9302A08\n",
      "4 TRAZOSB128F9302A07\n",
      "5 TRAEUIW12903D018F0\n",
      "\n",
      "Time:  29.184\n"
     ]
    }
   ],
   "source": [
    "#path = r\"C:\\Users\\Maki\\Desktop\\MMDS\\lastfm_subset\\lastfm_subset\"\n",
    "path = input(\"Insert path to dataset: \")\n",
    "df = pd.DataFrame(data_iterator(path))\n",
    "\n",
    "#GLOBAL VARIABLES:\n",
    "nodes = dict()\n",
    "tags_unique = dict()\n",
    "all_songs = []\n",
    "track_id = df[\"track_id\"]\n",
    "similars = df[\"similars\"]\n",
    "tags = df[\"tags\"]\n",
    "\n",
    "#PARAMETERS:\n",
    "t, g, beta, n = get_parameters()\n",
    "print(\"Chosen parameters: t =\", t, \"  g =\", g, \"  beta =\", beta, \"  n =\", n, \"\\n\")\n",
    "user_tags = get_tags()\n",
    "\n",
    "#RUN PAGERANK ALGORITHM\n",
    "start_time = time.time()\n",
    "\n",
    "print(\"\\n--------------------------------------------------------\")\n",
    "print(\"Topic-Specific PageRang algorithm launched. Please wait.\\n\")\n",
    "\n",
    "A = create_adjacency_matrix(t)\n",
    "tag_matrix = create_tag_matrix(g)\n",
    "\n",
    "S = get_relevants(user_tags, tag_matrix)\n",
    "r = get_rank_vector(len(nodes), S, beta)\n",
    "\n",
    "if len(r) > 0:\n",
    "    print(\"\\nTop\", n ,\"songs: \")\n",
    "    topN = get_top_n(r, n)\n",
    "    for i, s in enumerate(topN):\n",
    "        print(i+1, s)\n",
    "\n",
    "print('\\nTime: ', round(time.time() - start_time, 3))"
   ]
  }
 ],
 "metadata": {
  "anaconda-cloud": {},
  "kernelspec": {
   "display_name": "Python [conda root]",
   "language": "python",
   "name": "conda-root-py"
  },
  "language_info": {
   "codemirror_mode": {
    "name": "ipython",
    "version": 3
   },
   "file_extension": ".py",
   "mimetype": "text/x-python",
   "name": "python",
   "nbconvert_exporter": "python",
   "pygments_lexer": "ipython3",
   "version": "3.5.2"
  }
 },
 "nbformat": 4,
 "nbformat_minor": 1
}
